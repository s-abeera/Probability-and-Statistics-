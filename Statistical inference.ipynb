{
 "cells": [
  {
   "cell_type": "code",
   "execution_count": 1,
   "metadata": {},
   "outputs": [
    {
     "data": {
      "text/html": [
       "<div>\n",
       "<style scoped>\n",
       "    .dataframe tbody tr th:only-of-type {\n",
       "        vertical-align: middle;\n",
       "    }\n",
       "\n",
       "    .dataframe tbody tr th {\n",
       "        vertical-align: top;\n",
       "    }\n",
       "\n",
       "    .dataframe thead th {\n",
       "        text-align: right;\n",
       "    }\n",
       "</style>\n",
       "<table border=\"1\" class=\"dataframe\">\n",
       "  <thead>\n",
       "    <tr style=\"text-align: right;\">\n",
       "      <th></th>\n",
       "      <th>Rank</th>\n",
       "      <th>Name</th>\n",
       "      <th>Platform</th>\n",
       "      <th>Year</th>\n",
       "      <th>Genre</th>\n",
       "      <th>Publisher</th>\n",
       "      <th>NA_Sales</th>\n",
       "      <th>EU_Sales</th>\n",
       "      <th>JP_Sales</th>\n",
       "      <th>Other_Sales</th>\n",
       "      <th>Global_Sales</th>\n",
       "    </tr>\n",
       "  </thead>\n",
       "  <tbody>\n",
       "    <tr>\n",
       "      <th>0</th>\n",
       "      <td>1</td>\n",
       "      <td>Wii Sports</td>\n",
       "      <td>Wii</td>\n",
       "      <td>2006</td>\n",
       "      <td>Sports</td>\n",
       "      <td>Nintendo</td>\n",
       "      <td>41.49</td>\n",
       "      <td>29.02</td>\n",
       "      <td>3.77</td>\n",
       "      <td>8.46</td>\n",
       "      <td>82.74</td>\n",
       "    </tr>\n",
       "    <tr>\n",
       "      <th>1</th>\n",
       "      <td>2</td>\n",
       "      <td>Super Mario Bros.</td>\n",
       "      <td>NES</td>\n",
       "      <td>1985</td>\n",
       "      <td>Platform</td>\n",
       "      <td>Nintendo</td>\n",
       "      <td>29.08</td>\n",
       "      <td>3.58</td>\n",
       "      <td>6.81</td>\n",
       "      <td>0.77</td>\n",
       "      <td>40.24</td>\n",
       "    </tr>\n",
       "    <tr>\n",
       "      <th>2</th>\n",
       "      <td>3</td>\n",
       "      <td>Mario Kart Wii</td>\n",
       "      <td>Wii</td>\n",
       "      <td>2008</td>\n",
       "      <td>Racing</td>\n",
       "      <td>Nintendo</td>\n",
       "      <td>15.85</td>\n",
       "      <td>12.88</td>\n",
       "      <td>3.79</td>\n",
       "      <td>3.31</td>\n",
       "      <td>35.82</td>\n",
       "    </tr>\n",
       "    <tr>\n",
       "      <th>3</th>\n",
       "      <td>4</td>\n",
       "      <td>Wii Sports Resort</td>\n",
       "      <td>Wii</td>\n",
       "      <td>2009</td>\n",
       "      <td>Sports</td>\n",
       "      <td>Nintendo</td>\n",
       "      <td>15.75</td>\n",
       "      <td>11.01</td>\n",
       "      <td>3.28</td>\n",
       "      <td>2.96</td>\n",
       "      <td>33.00</td>\n",
       "    </tr>\n",
       "    <tr>\n",
       "      <th>4</th>\n",
       "      <td>5</td>\n",
       "      <td>Pokemon Red/Pokemon Blue</td>\n",
       "      <td>GB</td>\n",
       "      <td>1996</td>\n",
       "      <td>Role-Playing</td>\n",
       "      <td>Nintendo</td>\n",
       "      <td>11.27</td>\n",
       "      <td>8.89</td>\n",
       "      <td>10.22</td>\n",
       "      <td>1.00</td>\n",
       "      <td>31.37</td>\n",
       "    </tr>\n",
       "  </tbody>\n",
       "</table>\n",
       "</div>"
      ],
      "text/plain": [
       "   Rank                      Name Platform  Year         Genre Publisher  \\\n",
       "0     1                Wii Sports      Wii  2006        Sports  Nintendo   \n",
       "1     2         Super Mario Bros.      NES  1985      Platform  Nintendo   \n",
       "2     3            Mario Kart Wii      Wii  2008        Racing  Nintendo   \n",
       "3     4         Wii Sports Resort      Wii  2009        Sports  Nintendo   \n",
       "4     5  Pokemon Red/Pokemon Blue       GB  1996  Role-Playing  Nintendo   \n",
       "\n",
       "   NA_Sales  EU_Sales  JP_Sales  Other_Sales  Global_Sales  \n",
       "0     41.49     29.02      3.77         8.46         82.74  \n",
       "1     29.08      3.58      6.81         0.77         40.24  \n",
       "2     15.85     12.88      3.79         3.31         35.82  \n",
       "3     15.75     11.01      3.28         2.96         33.00  \n",
       "4     11.27      8.89     10.22         1.00         31.37  "
      ]
     },
     "execution_count": 1,
     "metadata": {},
     "output_type": "execute_result"
    }
   ],
   "source": [
    "#I first import all the necessary libraries, some I added further into my work when I saw the need for one.\n",
    "import pandas as pd \n",
    "import matplotlib.pyplot as plt\n",
    "import numpy as np \n",
    "from scipy import stats\n",
    "import statistics \n",
    "\n",
    "filename = 'vgsales.csv'\n",
    "data = pd.read_csv(filename)\n",
    "data.head()  #this displays only the first 5 entries in the dataset and acted as a reference\n",
    "#data.info()"
   ]
  },
  {
   "cell_type": "code",
   "execution_count": 2,
   "metadata": {},
   "outputs": [
    {
     "name": "stdout",
     "output_type": "stream",
     "text": [
      "696\n",
      "Nintendo sales (NA) = 815.75\n",
      "Ninetnedo sales (JP) = 454.99\n",
      "total sales (NA) = 4327.65        total sales (JP) = 1284.27\n",
      "Mean (NA)= 1.17        Mean (JP) = 0.65\n",
      "Median (NA)= 0.38        Median (JP) = 0.28\n",
      "Mode (NA)= ModeResult(mode=array([0.]), count=array([171]))        Mode (JP) = ModeResult(mode=array([0.]), count=array([71]))\n",
      "2.99 1.06\n"
     ]
    }
   ],
   "source": [
    "#summary statistics\n",
    "#the following variables are set to find the required statistics \n",
    "pub = data['Publisher']\n",
    "n = 0\n",
    "NA_sales = [] #I created an empty list so I could add all the Ninetendo sales in North America in it\n",
    "NA_count = 0\n",
    "JP_sales = []\n",
    "JP_count = 0\n",
    "na = data['NA_Sales']\n",
    "jp = data['JP_Sales']\n",
    "\n",
    "total_na = sum(na) #using the sum function to find the total videogame sales in North America \n",
    "total_jp = sum(jp)\n",
    "\n",
    "for i in range(len(pub)): #this was a random choice, all the initial lists will have the same length. \n",
    "    if pub[i] == 'Nintendo' and na[i] == na[i]:  #this sets the criteria to sort Nintendo sales in America \n",
    "        NA_sales.append(na[i])    #adding the the Nintendo sales in America values in the list\n",
    "        NA_count += na[i]         #this creates a subset of total_na to find the total Nintendo sales in America  \n",
    "        n += 1                    #counts the number of Nintendo games publishes, which gives us the count of the groups. \n",
    "    if pub[i] == 'Nintendo' and jp[i] == jp[i]:\n",
    "        JP_sales.append(jp[i])\n",
    "        JP_count += jp[i]\n",
    "        \n",
    "\n",
    "#the following functions from the relevant libraries are used to find the mean, median, mode and standard deviation. \n",
    "NA_mean = np.mean(NA_sales)\n",
    "JP_mean = np.mean(JP_sales)\n",
    "\n",
    "NA_sales.sort()\n",
    "JP_sales.sort()\n",
    "NA_median = np.median(NA_sales)\n",
    "JP_median = np.median(JP_sales)\n",
    "\n",
    "NA_mode = stats.mode(NA_sales)\n",
    "JP_mode = stats.mode(JP_sales)\n",
    "\n",
    "NA_std = statistics.stdev(NA_sales)\n",
    "JP_std = statistics.stdev(JP_sales)\n",
    "\n",
    "\n",
    "print(n)\n",
    "print('Nintendo sales (NA) =', round(NA_count, 2))\n",
    "print('Ninetnedo sales (JP) =', round(JP_count, 2))\n",
    "print('total sales (NA) =', round(total_na, 2), '      ' ,'total sales (JP) =', round(total_jp, 2))\n",
    "print('Mean (NA)=', round(NA_mean, 2), '      ' ,'Mean (JP) =', round(JP_mean, 2))\n",
    "print('Median (NA)=', round(NA_median, 2), '      ' ,'Median (JP) =', round(JP_median, 2))\n",
    "print('Mode (NA)=', NA_mode, '      ' ,'Mode (JP) =', JP_mode)\n",
    "print(round(NA_std,2), round(JP_std, 2))"
   ]
  },
  {
   "cell_type": "code",
   "execution_count": 22,
   "metadata": {},
   "outputs": [
    {
     "data": {
      "image/png": "[encoded data removed]",
      "text/plain": [
       "<Figure size 432x288 with 1 Axes>"
      ]
     },
     "metadata": {
      "needs_background": "light"
     },
     "output_type": "display_data"
    }
   ],
   "source": [
    "\n",
    "#histogram for Nintendo sales in North America. I reused my previous code from NS50 pre-class works on data vizualization classes\n",
    "\n",
    "plt.hist(NA_sales, color = 'green', align = 'mid', edgecolor = 'white')\n",
    "plt.xlabel('Nintendo videogame sales in North American (in millions)', fontsize = 13)\n",
    "plt.ylabel('Frequency', fontsize = 13)\n",
    "#plt.grid('True')\n",
    "axes = plt.gca()\n",
    "axes.yaxis.grid()\n",
    "plt.show()\n",
    "\n"
   ]
  },
  {
   "cell_type": "code",
   "execution_count": 21,
   "metadata": {},
   "outputs": [
    {
     "data": {
      "image/png": "[encoded data removed]",
      "text/plain": [
       "<Figure size 432x288 with 1 Axes>"
      ]
     },
     "metadata": {
      "needs_background": "light"
     },
     "output_type": "display_data"
    }
   ],
   "source": [
    "#histogram for Nintendo sales in Japan \n",
    "\n",
    "plt.hist(JP_sales, color = 'green', align = 'mid', edgecolor = 'white')\n",
    "plt.xlabel('Nintendo videogame sales in Japan (in millions)', fontsize = 13)\n",
    "plt.ylabel('Frequency', fontsize = 13)\n",
    "#plt.grid('True')\n",
    "axes = plt.gca()\n",
    "axes.yaxis.grid()\n",
    "plt.show()"
   ]
  },
  {
   "cell_type": "code",
   "execution_count": 3,
   "metadata": {},
   "outputs": [
    {
     "name": "stdout",
     "output_type": "stream",
     "text": [
      "T-score = 3.2293550858174065 Standard eror = 0.16050676359801228\n",
      "Point estimate = 0.518 Confidence interval [ 0.385 , 0.651 ]\n",
      "p = 0.0012991\n",
      "effect size = 0.23087646989890917\n",
      "cohens d 0.231001\n",
      "0.8287787583517313\n"
     ]
    }
   ],
   "source": [
    "#confidence intervals \n",
    "\n",
    "NAstd = NA_std*(n/(n-1))  #applying bressel's correction to standard deviations found before\n",
    "JPstd = NA_std*(n/(n-1))\n",
    "\n",
    "p_estimate = NA_mean - JP_mean   #the point estimate of the difference of the two means\n",
    "SE = (NAstd**2/n + JPstd**2/n)**0.5   #this standard error formula is specific to when working with two means\n",
    "df = n - 1   #degree of freedoms\n",
    "\n",
    "t_score =stats.t.cdf(0.95, df) #this t-distribution function uses the cofidence level and degrees of freedom to find the t-score\n",
    "upper_bound = p_estimate + (t_score*SE)\n",
    "lower_bound = p_estimate - (t_score*SE)\n",
    "\n",
    "\n",
    "#signifiance level \n",
    "#the following code was taken from the pynomia example in session 13.2 of CS50\n",
    "Tscore = (p_estimate)/SE  #this is the basic formula to find a t-value (x1 - x2)/standard error\n",
    "pvalue = 2*stats.t.cdf(-Tscore,df)   \n",
    "#the above function calculates the area under the curve of t-distribution curve. \n",
    "#As the distribution is symmetric, -t is used to calculate the area outside the percentile area. \n",
    "\n",
    "SDpooled = np.sqrt((NA_std**2*(n-1) + JP_std**2*(n-1))/(n+n-2))  #pooled standard deviation. The formula is simply applied. \n",
    "cohensd = (p_estimate)/SDpooled\n",
    "hedgesd = 1 - (3/(4*(2*n)-9))  #hedge's d is a correction value. The formula was simply used\n",
    "effectsize = cohensd * hedgesd\n",
    "\n",
    "print('T-score =', Tscore, 'Standard eror =', SE)\n",
    "print('Point estimate =', round(p_estimate, 3), 'Confidence interval [',round(lower_bound, 3),',',round(upper_bound, 3), ']')\n",
    "print('p =', round(pvalue, 7))\n",
    "print('effect size =', effectsize)\n",
    "print('cohens d', round(cohensd, 6))\n",
    "print(t_score)"
   ]
  },
  {
   "cell_type": "code",
   "execution_count": 25,
   "metadata": {},
   "outputs": [
    {
     "name": "stdout",
     "output_type": "stream",
     "text": [
      "There is no mode\n",
      "There is no mode\n"
     ]
    }
   ],
   "source": [
    "def mode(var):\n",
    "    frequency = []\n",
    "    for i in range(len(var)): #the nested for loops allow one each value of the list to be compared with the rest of them\n",
    "        for a in range(len(var)):\n",
    "            total = -1 #the -1 balances the 1 that will result from the comparision of the value with itself\n",
    "            if var[i] == var[a]:\n",
    "                total += 1 #if two values are equal it adds to the total for that value to show its frequency\n",
    "                frequency.append(total)\n",
    "            if max(frequency) == 0:\n",
    "                return(\"There is no mode\")\n",
    "            else:\n",
    "                m = frequency.index(max(frequency)) # m finds the index of the value with the highest frequency in the list\n",
    "                return(\"Mode =\", var[m])\n",
    "                return(frequency)\n",
    "\n",
    "print(mode(NA_sales))\n",
    "print(mode(JP_sales))\n"
   ]
  },
  {
   "cell_type": "code",
   "execution_count": null,
   "metadata": {},
   "outputs": [],
   "source": []
  }
 ],
 "metadata": {
  "kernelspec": {
   "display_name": "Python 3",
   "language": "python",
   "name": "python3"
  },
  "language_info": {
   "codemirror_mode": {
    "name": "ipython",
    "version": 3
   },
   "file_extension": ".py",
   "mimetype": "text/x-python",
   "name": "python",
   "nbconvert_exporter": "python",
   "pygments_lexer": "ipython3",
   "version": "3.8.3"
  }
 },
 "nbformat": 4,
 "nbformat_minor": 4
}
